{
 "cells": [
  {
   "cell_type": "code",
   "execution_count": 1,
   "metadata": {
    "collapsed": true
   },
   "outputs": [],
   "source": [
    "import matplotlib.pyplot as plt\n",
    "from scipy.ndimage import imread\n",
    "\n"
   ]
  },
  {
   "cell_type": "code",
   "execution_count": 2,
   "metadata": {
    "collapsed": true
   },
   "outputs": [],
   "source": [
    "import numpy as np"
   ]
  },
  {
   "cell_type": "code",
   "execution_count": 62,
   "metadata": {
    "collapsed": true
   },
   "outputs": [],
   "source": [
    "from enum import Enum\n",
    "class PixColor(Enum):\n",
    "    RED = 1\n",
    "    YELLOW = 2\n",
    "    BLUE = 0\n",
    "    "
   ]
  },
  {
   "cell_type": "code",
   "execution_count": null,
   "metadata": {
    "collapsed": true
   },
   "outputs": [],
   "source": [
    "from scipy.ndimage import imread\n",
    "\n",
    "class Map():\n",
    "    def __init__(self):\n",
    "        self.pixels = None\n",
    "    del load(self, jpg):\n",
    "        self.pixels=imread(jog)\n",
    "    def set_pixel(x, y, r=0, y=0, b=0):\n",
    "        self.pixels(x, y, PixColor.RED.value) = r\n",
    "        self.pixels(x, y, PixColor.YELLOW.value) = y\n",
    "        self.pixels(x, y, PixColor.BLUE.value) = b"
   ]
  },
  {
   "cell_type": "code",
   "execution_count": null,
   "metadata": {
    "collapsed": true
   },
   "outputs": [],
   "source": []
  },
  {
   "cell_type": "code",
   "execution_count": 80,
   "metadata": {},
   "outputs": [
    {
     "name": "stdout",
     "output_type": "stream",
     "text": [
      "<class 'numpy.ndarray'>\n"
     ]
    },
    {
     "data": {
      "text/plain": [
       "(53, 93, 3)"
      ]
     },
     "execution_count": 80,
     "metadata": {},
     "output_type": "execute_result"
    }
   ],
   "source": [
    "im=imread(\"../raw/small.jpg\")\n",
    "print(type(im))\n",
    "im = im[::]\n",
    "lx, ly , lz= im.shape\n",
    "X, Y ,Z= np.ogrid[0:lx, 0:ly, 0:lz]\n",
    "\n",
    "\n",
    "#mask = (X - lx / 2) ** 2 + (Y - ly / 2) ** 2 +  Z > lx * ly / 4\n",
    "mask=np.zeros((lx,ly,lz), dtype=bool)\n",
    "#mask[:, :, 0]=True # bleu\n",
    "#mask[:, :, 1]=True # rouge\n",
    "#mask[0, 0, 2]=True  # jaune\n",
    "mask[25, 45, PixColor.RED.value]=True  # jaune\n",
    "im[mask] = 0\n",
    "foo =(X - lx / 2) ** 2\n",
    "type(foo)\n",
    "mask.shape\n",
    "\n",
    "#im[range(10), range(10)] = 255\n"
   ]
  },
  {
   "cell_type": "code",
   "execution_count": 79,
   "metadata": {},
   "outputs": [
    {
     "data": {
      "image/png": "[encoded data removed]",
      "text/plain": [
       "<matplotlib.figure.Figure at 0x119d740b8>"
      ]
     },
     "metadata": {},
     "output_type": "display_data"
    }
   ],
   "source": [
    "plt.imshow(im, cmap=plt.cm.gray)\n",
    "plt.show()\n"
   ]
  },
  {
   "cell_type": "code",
   "execution_count": null,
   "metadata": {
    "collapsed": true
   },
   "outputs": [],
   "source": []
  }
 ],
 "metadata": {
  "kernelspec": {
   "display_name": "Python 3",
   "language": "python",
   "name": "python3"
  },
  "language_info": {
   "codemirror_mode": {
    "name": "ipython",
    "version": 3
   },
   "file_extension": ".py",
   "mimetype": "text/x-python",
   "name": "python",
   "nbconvert_exporter": "python",
   "pygments_lexer": "ipython3",
   "version": "3.6.0"
  }
 },
 "nbformat": 4,
 "nbformat_minor": 2
}
